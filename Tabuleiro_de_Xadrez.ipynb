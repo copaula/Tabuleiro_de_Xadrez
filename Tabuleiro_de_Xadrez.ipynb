{
 "cells": [
  {
   "cell_type": "code",
   "execution_count": null,
   "id": "cba1e62e",
   "metadata": {},
   "outputs": [],
   "source": [
    "pip install numpy && matplotlib"
   ]
  },
  {
   "cell_type": "code",
   "execution_count": 4,
   "id": "65887379",
   "metadata": {},
   "outputs": [],
   "source": [
    "import matplotlib.pyplot as plt\n",
    "import numpy as np\n",
    "from matplotlib.colors import ListedColormap"
   ]
  },
  {
   "cell_type": "code",
   "execution_count": 5,
   "id": "e312abd1",
   "metadata": {},
   "outputs": [],
   "source": [
    "tabuleiro = np.tile([1,0],(8,4))"
   ]
  },
  {
   "cell_type": "code",
   "execution_count": 6,
   "id": "e2ad0f62",
   "metadata": {},
   "outputs": [],
   "source": [
    "for i in range(tabuleiro.shape[0]):\n",
    "    tabuleiro[i]= np.roll(tabuleiro[i], i%2)"
   ]
  },
  {
   "cell_type": "code",
   "execution_count": 11,
   "id": "dab7de34",
   "metadata": {},
   "outputs": [
    {
     "data": {
      "image/png": "[encoded data removed]",
      "text/plain": [
       "<Figure size 288x288 with 1 Axes>"
      ]
     },
     "metadata": {},
     "output_type": "display_data"
    }
   ],
   "source": [
    "mapa_de_cores = ListedColormap(['black','white'])\n",
    "plt.matshow(tabuleiro,cmap = mapa_de_cores)\n",
    "plt.xticks([])\n",
    "plt.yticks([])\n",
    "plt.show()"
   ]
  },
  {
   "cell_type": "markdown",
   "id": "938af809",
   "metadata": {},
   "source": []
  }
 ],
 "metadata": {
  "kernelspec": {
   "display_name": "Python 3 (ipykernel)",
   "language": "python",
   "name": "python3"
  },
  "language_info": {
   "codemirror_mode": {
    "name": "ipython",
    "version": 3
   },
   "file_extension": ".py",
   "mimetype": "text/x-python",
   "name": "python",
   "nbconvert_exporter": "python",
   "pygments_lexer": "ipython3",
   "version": "3.9.12"
  }
 },
 "nbformat": 4,
 "nbformat_minor": 5
}
